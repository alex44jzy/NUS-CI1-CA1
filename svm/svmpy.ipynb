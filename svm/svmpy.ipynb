{
 "cells": [
  {
   "cell_type": "code",
   "execution_count": 48,
   "metadata": {},
   "outputs": [
    {
     "name": "stdout",
     "output_type": "stream",
     "text": [
      "0.8362919132149902\n"
     ]
    },
    {
     "data": {
      "text/plain": [
       "array([[41,  0,  0,  0,  0,  1,  3,  0,  0],\n",
       "       [ 1, 73,  0, 21,  1,  0,  0,  1,  0],\n",
       "       [ 0,  0, 20,  1,  0,  0,  0,  0,  0],\n",
       "       [ 0, 22,  0, 70,  1,  0,  0,  0,  0],\n",
       "       [ 0,  1,  1,  0, 71,  0,  0,  1,  9],\n",
       "       [ 0,  1,  0,  0,  1, 12,  0,  0,  0],\n",
       "       [ 4,  0,  0,  0,  0,  0, 41,  0,  0],\n",
       "       [ 0,  3,  2,  1,  2,  0,  0, 12,  0],\n",
       "       [ 0,  0,  0,  0,  3,  0,  2,  0, 84]])"
      ]
     },
     "execution_count": 48,
     "metadata": {},
     "output_type": "execute_result"
    }
   ],
   "source": [
    "# -*- coding: utf-8 -*-\n",
    "__author__ = 'alexjzy'\n",
    "import numpy as np\n",
    "\n",
    "np.random.seed(42)\n",
    "import os\n",
    "\n",
    "# To plot pretty figures\n",
    "import matplotlib\n",
    "import matplotlib.pyplot as plt\n",
    "\n",
    "# Sklearn part\n",
    "from sklearn.svm import LinearSVC\n",
    "from sklearn import preprocessing\n",
    "from sklearn.metrics import accuracy_score, confusion_matrix\n",
    "\n",
    "# Pandas part\n",
    "import pandas as pd\n",
    "\n",
    "# data = pd.read_csv(\"./dataset/train\")\n",
    "path = os.getcwd()\n",
    "\n",
    "train_path = \"/train.csv\"\n",
    "test_path = \"/test.csv\"\n",
    "dataset_path = \"/dataset\"\n",
    "\n",
    "data_train = pd.read_csv(path + dataset_path + train_path)\n",
    "\n",
    "# convert the labels to encode numbers as a new column\n",
    "def convertClassToEncodeNumber(df, benchmarkCol, newColName):\n",
    "    labelEncoder = preprocessing.LabelEncoder()  # initial encoder\n",
    "    labelEncoder.fit(df.loc[:, benchmarkCol])\n",
    "    encodedData = labelEncoder.transform(df.loc[:, benchmarkCol])\n",
    "    df[newColName] = encodedData\n",
    "    return df\n",
    "\n",
    "def standardScaler(df):\n",
    "    scaler = preprocessing.StandardScaler().fit(df)\n",
    "    return scaler\n",
    "\n",
    "data_train = convertClassToEncodeNumber(data_train, \"class\", \"Y\")\n",
    "\n",
    "# several sets of data\n",
    "# 1:22 ''\n",
    "# 22:43 40\n",
    "# 43:64 60\n",
    "# 64:85 80\n",
    "# 85:106 100\n",
    "# 106:127 120\n",
    "# 127:148 140\n",
    "trainX = data_train.iloc[:, 1:22]\n",
    "trainY = data_train.iloc[:, -1]\n",
    "\n",
    "trainX_scale = standardScaler(trainX).transform(trainX)\n",
    "\n",
    "# SVM linear, multi_class = crammer_singer\n",
    "lin_clf_ = LinearSVC(random_state=42, multi_class='crammer_singer')\n",
    "lin_clf.fit(trainX_scale, trainY)\n",
    "\n",
    "# SVM linear, multi_class = ovr\n",
    "lin_clf = LinearSVC(random_state=42, multi_class='ovr')\n",
    "lin_clf.fit(trainX_scale, trainY)\n",
    "\n",
    "trainY_pred = lin_clf.predict(trainX_scale)\n",
    "accuracy = accuracy_score(trainY, trainY_pred)\n",
    "print(accuracy)\n",
    "confusion_matrix(trainY, trainY_pred)"
   ]
  },
  {
   "cell_type": "code",
   "execution_count": null,
   "metadata": {},
   "outputs": [],
   "source": []
  }
 ],
 "metadata": {
  "kernelspec": {
   "display_name": "Python 3",
   "language": "python",
   "name": "python3"
  },
  "language_info": {
   "codemirror_mode": {
    "name": "ipython",
    "version": 3
   },
   "file_extension": ".py",
   "mimetype": "text/x-python",
   "name": "python",
   "nbconvert_exporter": "python",
   "pygments_lexer": "ipython3",
   "version": "3.6.5"
  }
 },
 "nbformat": 4,
 "nbformat_minor": 2
}
